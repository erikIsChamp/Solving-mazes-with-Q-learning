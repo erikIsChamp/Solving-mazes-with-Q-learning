{
 "cells": [
  {
   "cell_type": "code",
   "execution_count": 25,
   "metadata": {
    "executionInfo": {
     "elapsed": 466,
     "status": "ok",
     "timestamp": 1734363656462,
     "user": {
      "displayName": "Erik Grieg",
      "userId": "06539256775453682755"
     },
     "user_tz": -60
    },
    "id": "j0g5ehcF-C35"
   },
   "outputs": [],
   "source": [
    "import numpy as np\n",
    "import matplotlib.pyplot as plt\n",
    "from tqdm import tqdm\n",
    "import time"
   ]
  },
  {
   "cell_type": "markdown",
   "metadata": {
    "id": "7OXdlVHe-O9a"
   },
   "source": [
    "## **Creating the Maze Environment**"
   ]
  },
  {
   "cell_type": "code",
   "execution_count": 26,
   "metadata": {
    "executionInfo": {
     "elapsed": 5,
     "status": "ok",
     "timestamp": 1734363656462,
     "user": {
      "displayName": "Erik Grieg",
      "userId": "06539256775453682755"
     },
     "user_tz": -60
    },
    "id": "BrfkCY7w-OY3"
   },
   "outputs": [],
   "source": [
    "class Maze:\n",
    "    def __init__(self, layout, start_position, goal_position):\n",
    "        # Initialize Maze object with the provided maze, start_position, and goal position\n",
    "        self.layout = layout\n",
    "        self.maze_height = layout.shape[0] # Get the height of the maze (number of rows)\n",
    "        self.maze_width = layout.shape[1]  # Get the width of the maze (number of columns)\n",
    "        self.start_position = start_position    # Set the start position in the maze as a tuple (x, y)\n",
    "        self.goal_position = goal_position      # Set the goal position in the maze as a tuple (x, y)\n",
    "\n",
    "    def show(self):\n",
    "        # Visualize the maze using Matplotlib\n",
    "        plt.figure(figsize=(5,5))\n",
    "\n",
    "        # Display the maze as an image in grayscale ('gray' colormap)\n",
    "        plt.imshow(self.layout, cmap='gray')\n",
    "\n",
    "        # Add start and goal positions as 'S' and 'G'\n",
    "        plt.text(self.start_position[0], self.start_position[1], 'S', ha='center', va='center', color='red', fontsize=20)\n",
    "        plt.text(self.goal_position[0], self.goal_position[1], 'G', ha='center', va='center', color='green', fontsize=20)\n",
    "\n",
    "        # Remove ticks and labels from the axes\n",
    "        plt.xticks([]), plt.yticks([])\n",
    "\n",
    "        # Show the plot\n",
    "        plt.show()"
   ]
  },
  {
   "cell_type": "markdown",
   "metadata": {},
   "source": [
    "## **Load the generated maze**"
   ]
  },
  {
   "cell_type": "code",
   "execution_count": 27,
   "metadata": {
    "colab": {
     "base_uri": "https://localhost:8080/",
     "height": 480
    },
    "executionInfo": {
     "elapsed": 525,
     "status": "ok",
     "timestamp": 1734363656983,
     "user": {
      "displayName": "Erik Grieg",
      "userId": "06539256775453682755"
     },
     "user_tz": -60
    },
    "id": "fXssFI9q_gic",
    "outputId": "e1257032-658b-4bbb-9ca4-8c2c928c8c59"
   },
   "outputs": [
    {
     "data": {
      "image/png": "[encoded data removed]",
      "text/plain": [
       "<Figure size 500x500 with 1 Axes>"
      ]
     },
     "metadata": {},
     "output_type": "display_data"
    }
   ],
   "source": [
    "height = 25\n",
    "width = 25\n",
    "\n",
    "filename = f'mazes/{height}x{width}_layout.npy'\n",
    "layout = np.load(filename)\n",
    "\n",
    "start_position = (1,1)\n",
    "goal_position = (23, 23)\n",
    "\n",
    "# Make sure the start and end point is not in a wall\n",
    "if layout[start_position] == 1:\n",
    "    raise ValueError(\"Make sure the start position is not in the wall\")\n",
    "elif layout[goal_position] == 1:\n",
    "    raise ValueError(\"Make sure the goal position is not in the wall\")\n",
    "\n",
    "maze = Maze(layout, start_position=start_position, goal_position=goal_position)\n",
    "maze.show()"
   ]
  },
  {
   "cell_type": "markdown",
   "metadata": {
    "id": "59R0EpWI_mQt"
   },
   "source": [
    "## **Implementing the agent**"
   ]
  },
  {
   "cell_type": "code",
   "execution_count": 28,
   "metadata": {
    "executionInfo": {
     "elapsed": 6,
     "status": "ok",
     "timestamp": 1734363656983,
     "user": {
      "displayName": "Erik Grieg",
      "userId": "06539256775453682755"
     },
     "user_tz": -60
    },
    "id": "rPZ-3Uh3_oJN"
   },
   "outputs": [],
   "source": [
    "actions = [(-1, 0), # Up: Moving one step up, reducing the row index by 1\n",
    "          (1, 0),   # Down: Moving on step down, increasing the row index by 1\n",
    "          (0, -1),  # Left: Moving one step to the left, reducing the column index by 1\n",
    "          (0, 1)]   # Right: Moving one step to the right, increasing the column index by 1\n",
    "\n",
    "class QLearningAgent:\n",
    "    def __init__(self, maze, learning_rate, discount_factor, exploration_start, exploration_end, num_episodes):\n",
    "        # Initialize the Q-learning agent with a Q-table containing all zeros\n",
    "        # where the rows represent states, columns represent actions, and the third dimension is for each action (Up, Down, Left, Right)\n",
    "        self.q_table = np.zeros((maze.maze_height, maze.maze_width, 4)) # 4 actions: Up, Down, Left, Right\n",
    "        self.learning_rate = learning_rate          # Learning rate controls how much the agent updates its Q-values after each action\n",
    "        self.discount_factor = discount_factor      # Discount factor determines the importance of future rewards in the agent's decisions\n",
    "        self.exploration_start = exploration_start  # Exploration rate determines the likelihood of the agent taking a random action\n",
    "        self.exploration_end = exploration_end\n",
    "        self.num_episodes = num_episodes\n",
    "\n",
    "    def get_exploration_rate(self, current_episode):\n",
    "        # Calculate the current exploration rate using the given formula\n",
    "        exploration_rate = self.exploration_start * (self.exploration_end / self.exploration_start) ** (current_episode / self.num_episodes)\n",
    "        return exploration_rate\n",
    "\n",
    "    def get_action(self, state, current_episode): # State is tuple representing where agent is in maze (x, y)\n",
    "        exploration_rate = self.get_exploration_rate(current_episode)\n",
    "        # Select an action for the given state either randomly (exploration) or using the Q-table (exploitation)\n",
    "        if np.random.rand() < exploration_rate:\n",
    "            return np.random.randint(4) # Choose a random action (index 0 to 3, representing Up, Down, Left, Right)\n",
    "        else:\n",
    "            return np.argmax(self.q_table[state]) # Choose the action with the highest Q-value for the given state\n",
    "\n",
    "    def update_q_table(self, state, action, next_state, reward):\n",
    "        # Find the best next action by selecting the action that maximizes the Q-value for the next state\n",
    "        best_next_action = np.argmax(self.q_table[next_state])\n",
    "\n",
    "        # Get the current Q-value for the current state and action\n",
    "        current_q_value = self.q_table[state][action]\n",
    "\n",
    "        # Q-value update using Q-learning formula\n",
    "        new_q_value = current_q_value + self.learning_rate * (reward + self.discount_factor * self.q_table[next_state][best_next_action] - current_q_value)\n",
    "\n",
    "        # Update the Q-table with the new Q-value for the current state and action\n",
    "        self.q_table[state][action] = new_q_value"
   ]
  },
  {
   "cell_type": "markdown",
   "metadata": {
    "id": "4FbuYR2CAn1_"
   },
   "source": [
    "## **Defining the Reward System**"
   ]
  },
  {
   "cell_type": "code",
   "execution_count": 29,
   "metadata": {
    "executionInfo": {
     "elapsed": 6,
     "status": "ok",
     "timestamp": 1734363656984,
     "user": {
      "displayName": "Erik Grieg",
      "userId": "06539256775453682755"
     },
     "user_tz": -60
    },
    "id": "ImjtvwVSAwTa"
   },
   "outputs": [],
   "source": [
    "goal_reward = 100\n",
    "wall_penalty = -10\n",
    "step_penalty = -1"
   ]
  },
  {
   "cell_type": "markdown",
   "metadata": {
    "id": "O5_ZzP1ZBB_D"
   },
   "source": [
    "## **Implementing agent helper functions**"
   ]
  },
  {
   "cell_type": "code",
   "execution_count": 30,
   "metadata": {
    "executionInfo": {
     "elapsed": 6,
     "status": "ok",
     "timestamp": 1734363656984,
     "user": {
      "displayName": "Erik Grieg",
      "userId": "06539256775453682755"
     },
     "user_tz": -60
    },
    "id": "uaHLrAd0ov3Q"
   },
   "outputs": [],
   "source": [
    "def finish_episode(agent: QLearningAgent, maze: Maze, current_episode, train):\n",
    "    # Initialize the agent's current state to the maze's start position\n",
    "    current_state = maze.start_position\n",
    "    is_done = False\n",
    "    episode_reward = 0\n",
    "    episode_step = 0\n",
    "    path = [current_state]\n",
    "\n",
    "    # Start the timer\n",
    "    start_time = time.time()\n",
    "\n",
    "    # Continue until the episode is done\n",
    "    while not is_done:\n",
    "        # Check if the time limit has been exceeded when not training\n",
    "        if not train and (time.time() - start_time) > 5:\n",
    "            print(\"Time limit exceeded, agent did not find the goal\")\n",
    "            return episode_reward, episode_step, path\n",
    "\n",
    "        # Get the agent's action for the current state using its Q-table\n",
    "        action = agent.get_action(current_state, current_episode)\n",
    "\n",
    "        # Compute the next state based on the chosen action\n",
    "        next_state = (current_state[0] + actions[action][0], current_state[1] + actions[action][1])\n",
    "\n",
    "        # Check if the next state is out of bounds or hitting a wall\n",
    "        if next_state[0] < 0 or next_state[0] >= maze.maze_height or next_state[1] < 0 or next_state[1] >= maze.maze_width or maze.layout[next_state[1]][next_state[0]] == 1:\n",
    "            reward = wall_penalty\n",
    "            next_state = current_state\n",
    "        # Check if the agent reached the goal:\n",
    "        elif next_state == (maze.goal_position):\n",
    "            path.append(current_state)\n",
    "            reward = goal_reward\n",
    "            is_done = True\n",
    "        # The agent takes a step but hasn't reached the goal yet\n",
    "        else:\n",
    "            path.append(current_state)\n",
    "            reward = step_penalty\n",
    "\n",
    "        # Update the cumulative reward and step count for the episode\n",
    "        episode_reward += reward\n",
    "        episode_step += 1\n",
    "\n",
    "        # Update the agent's Q-table if training is enabled\n",
    "        if train == True:\n",
    "            agent.update_q_table(current_state, action, next_state, reward)\n",
    "\n",
    "        # Move to the next state for the next iteration\n",
    "        current_state = next_state\n",
    "\n",
    "    return episode_reward, episode_step, path"
   ]
  },
  {
   "cell_type": "code",
   "execution_count": 31,
   "metadata": {
    "executionInfo": {
     "elapsed": 6,
     "status": "ok",
     "timestamp": 1734363656984,
     "user": {
      "displayName": "Erik Grieg",
      "userId": "06539256775453682755"
     },
     "user_tz": -60
    },
    "id": "k0iqqGUaAyto"
   },
   "outputs": [],
   "source": [
    "def test_agent(agent, maze: Maze, num_episodes=10000):\n",
    "    # Simulate the agent's behavior in the maze for the specified number of episodes\n",
    "    episode_reward, episode_step, path = finish_episode(agent, maze, num_episodes, train=False)\n",
    "\n",
    "    # Print the learned path of the agent\n",
    "    if len(path)<maze.maze_height*5: # Arbritrarily chosen path lenght\n",
    "      print(\"Learned Path:\")\n",
    "      for row, col in path:\n",
    "          print(f\"({row}, {col})-> \", end='')\n",
    "      print(\"Goal!\")\n",
    "\n",
    "    print(\"Number of steps:\", episode_step)\n",
    "    print(\"Total reward:\", episode_reward)\n",
    "\n",
    "    # Clear the existing plot if any\n",
    "    if plt.gcf().get_axes():\n",
    "        plt.cla()\n",
    "\n",
    "    # Visualize the maze using matplotlib\n",
    "    plt.figure(figsize=(5,5))\n",
    "    plt.imshow(maze.layout, cmap='gray')\n",
    "\n",
    "    # Mark the start position (red 'S') and goal position (green 'G') in the maze\n",
    "    plt.text(maze.start_position[0], maze.start_position[1], 'S', ha='center', va='center', color='red', fontsize=20)\n",
    "    plt.text(maze.goal_position[0], maze.goal_position[1], 'G', ha='center', va='center', color='green', fontsize=20)\n",
    "\n",
    "    #Mark the agent's path with blue '#' symbols\n",
    "    # Create a set to keep track of positions where '#' has already been drawn\n",
    "    drawn_positions = set()\n",
    "\n",
    "    for position in path:\n",
    "        # Check if the position is already in the set\n",
    "        if tuple(position) not in drawn_positions:\n",
    "            # Draw the text and add the position to the set\n",
    "            plt.text(position[0]-1, position[1], \"#\", va='center', color='blue', fontsize=15)\n",
    "            drawn_positions.add(tuple(position))\n",
    "\n",
    "\n",
    "    # Remove axis ticks and grid lines for a cleaner visualization\n",
    "    plt.xticks([]), plt.yticks([])\n",
    "    plt.grid(color='black', linewidth=2)\n",
    "    plt.show()\n",
    "\n",
    "    return"
   ]
  },
  {
   "cell_type": "code",
   "execution_count": 32,
   "metadata": {},
   "outputs": [],
   "source": [
    "def plot_training(avg_rewards, avg_episodes, num_runs):\n",
    "    # Plotting the averaged data after all runs are completed\n",
    "    plt.figure(figsize=(10, 5))\n",
    "\n",
    "    # Plot average reward per episode\n",
    "    plt.subplot(1, 2, 1)\n",
    "    plt.plot(avg_rewards, label='Average Reward')\n",
    "    plt.xlabel('Episode')\n",
    "    plt.ylabel('Cumulative Reward')\n",
    "    plt.ylim(-10000, 200)\n",
    "    plt.title(f'Average Reward per Episode (Averaged over {num_runs} runs)')\n",
    "\n",
    "    # Plot average steps per episode\n",
    "    plt.subplot(1, 2, 2)\n",
    "    plt.plot(avg_episodes, label='Average Steps')\n",
    "    plt.axhline(y=0, color='r', linestyle='--')\n",
    "    plt.xlabel('Episode')\n",
    "    plt.ylabel('Steps Taken')\n",
    "    plt.ylim(-50, 2000)\n",
    "    plt.title(f'Average Steps per Episode (Averaged over {num_runs} runs)')\n",
    "\n",
    "    plt.tight_layout()\n",
    "    plt.show()"
   ]
  },
  {
   "cell_type": "markdown",
   "metadata": {
    "id": "GGFiGxS9OORv"
   },
   "source": [
    "## **Setting Up the Reinforcement Learning Loop**"
   ]
  },
  {
   "cell_type": "code",
   "execution_count": 33,
   "metadata": {
    "executionInfo": {
     "elapsed": 6,
     "status": "ok",
     "timestamp": 1734363656984,
     "user": {
      "displayName": "Erik Grieg",
      "userId": "06539256775453682755"
     },
     "user_tz": -60
    },
    "id": "vdCGxQmOOfph"
   },
   "outputs": [],
   "source": [
    "def train_agent(agent_factory, maze, num_episodes, num_runs):\n",
    "    # To store all runs data: each entry in these lists will be an array of length `num_episodes`.\n",
    "    all_runs_rewards = []\n",
    "    all_runs_steps = []\n",
    "\n",
    "    # Perform multiple runs\n",
    "    for run_idx in range(num_runs):\n",
    "        # Create a new agent for this run\n",
    "        agent = agent_factory(num_episodes)\n",
    "\n",
    "        episode_rewards = []\n",
    "        episode_steps = []\n",
    "\n",
    "        # Run the training loop for the specified number of episodes\n",
    "        for episode in tqdm(range(num_episodes), desc=f\"Training Progress (Run {run_idx+1}/{num_runs})\"):\n",
    "            episode_reward, episode_step, path = finish_episode(agent, maze, episode, train=True)\n",
    "            episode_rewards.append(episode_reward)\n",
    "            episode_steps.append(episode_step)\n",
    "\n",
    "        # Store the results for this run\n",
    "        all_runs_rewards.append(episode_rewards)\n",
    "        all_runs_steps.append(episode_steps)\n",
    "\n",
    "    # Convert lists of lists into arrays for easier averaging\n",
    "    all_runs_rewards = np.array(all_runs_rewards)  # Shape: (num_runs, num_episodes)\n",
    "    all_runs_steps = np.array(all_runs_steps)      # Shape: (num_runs, num_episodes)\n",
    "\n",
    "    # Compute average over runs for each episode\n",
    "    avg_rewards_per_episode = np.mean(all_runs_rewards, axis=0)\n",
    "    avg_steps_per_episode = np.mean(all_runs_steps, axis=0)\n",
    "\n",
    "    # Compute overall averages\n",
    "    final_avg_reward = np.mean(avg_rewards_per_episode)\n",
    "    final_avg_steps = np.mean(avg_steps_per_episode)\n",
    "\n",
    "    print(f\"\\nAveraged over {num_runs} runs:\")\n",
    "    print(f\"The average reward per run is: {final_avg_reward}\")\n",
    "    print(f\"The average steps per run is: {final_avg_steps}\")\n",
    "    \n",
    "    return agent, avg_rewards_per_episode, avg_steps_per_episode\n"
   ]
  },
  {
   "cell_type": "markdown",
   "metadata": {
    "id": "_jrZKOEZOiKH"
   },
   "source": [
    "## **Creating, training and testing the agent**"
   ]
  },
  {
   "cell_type": "code",
   "execution_count": 34,
   "metadata": {},
   "outputs": [],
   "source": [
    "def agent_factory(num_episodes):\n",
    "    return QLearningAgent(\n",
    "            maze,\n",
    "            learning_rate = 1,\n",
    "            discount_factor = 0.9,\n",
    "            exploration_start = 1,\n",
    "            exploration_end = 0.001,\n",
    "            num_episodes = num_episodes\n",
    "        )"
   ]
  },
  {
   "cell_type": "code",
   "execution_count": 35,
   "metadata": {},
   "outputs": [
    {
     "name": "stderr",
     "output_type": "stream",
     "text": [
      "Training Progress (Run 1/250): 100%|██████████| 100/100 [00:00<00:00, 367.83it/s]\n",
      "Training Progress (Run 2/250): 100%|██████████| 100/100 [00:00<00:00, 427.85it/s]\n",
      "Training Progress (Run 3/250): 100%|██████████| 100/100 [00:00<00:00, 332.63it/s]\n",
      "Training Progress (Run 4/250): 100%|██████████| 100/100 [00:00<00:00, 407.49it/s]\n",
      "Training Progress (Run 5/250): 100%|██████████| 100/100 [00:00<00:00, 388.95it/s]\n",
      "Training Progress (Run 6/250): 100%|██████████| 100/100 [00:00<00:00, 215.87it/s]\n",
      "Training Progress (Run 7/250): 100%|██████████| 100/100 [00:00<00:00, 237.70it/s]\n",
      "Training Progress (Run 8/250): 100%|██████████| 100/100 [00:00<00:00, 365.63it/s]\n",
      "Training Progress (Run 9/250): 100%|██████████| 100/100 [00:00<00:00, 357.71it/s]\n",
      "Training Progress (Run 10/250): 100%|██████████| 100/100 [00:00<00:00, 372.15it/s]\n",
      "Training Progress (Run 11/250): 100%|██████████| 100/100 [00:00<00:00, 270.39it/s]\n",
      "Training Progress (Run 12/250): 100%|██████████| 100/100 [00:00<00:00, 470.36it/s]\n",
      "Training Progress (Run 13/250): 100%|██████████| 100/100 [00:00<00:00, 408.17it/s]\n",
      "Training Progress (Run 14/250): 100%|██████████| 100/100 [00:00<00:00, 401.05it/s]\n",
      "Training Progress (Run 15/250): 100%|██████████| 100/100 [00:00<00:00, 367.22it/s]\n",
      "Training Progress (Run 16/250): 100%|██████████| 100/100 [00:00<00:00, 354.48it/s]\n",
      "Training Progress (Run 17/250): 100%|██████████| 100/100 [00:00<00:00, 443.04it/s]\n",
      "Training Progress (Run 18/250): 100%|██████████| 100/100 [00:00<00:00, 400.06it/s]\n",
      "Training Progress (Run 19/250): 100%|██████████| 100/100 [00:00<00:00, 441.43it/s]\n",
      "Training Progress (Run 20/250): 100%|██████████| 100/100 [00:00<00:00, 367.65it/s]\n",
      "Training Progress (Run 21/250): 100%|██████████| 100/100 [00:00<00:00, 330.91it/s]\n",
      "Training Progress (Run 22/250): 100%|██████████| 100/100 [00:00<00:00, 392.30it/s]\n",
      "Training Progress (Run 23/250): 100%|██████████| 100/100 [00:00<00:00, 425.93it/s]\n",
      "Training Progress (Run 24/250): 100%|██████████| 100/100 [00:00<00:00, 513.38it/s]\n",
      "Training Progress (Run 25/250): 100%|██████████| 100/100 [00:00<00:00, 399.29it/s]\n",
      "Training Progress (Run 26/250): 100%|██████████| 100/100 [00:00<00:00, 372.09it/s]\n",
      "Training Progress (Run 27/250): 100%|██████████| 100/100 [00:00<00:00, 421.63it/s]\n",
      "Training Progress (Run 28/250): 100%|██████████| 100/100 [00:00<00:00, 399.81it/s]\n",
      "Training Progress (Run 29/250): 100%|██████████| 100/100 [00:00<00:00, 428.97it/s]\n",
      "Training Progress (Run 30/250): 100%|██████████| 100/100 [00:00<00:00, 386.58it/s]\n",
      "Training Progress (Run 31/250): 100%|██████████| 100/100 [00:00<00:00, 243.59it/s]\n",
      "Training Progress (Run 32/250): 100%|██████████| 100/100 [00:00<00:00, 400.88it/s]\n",
      "Training Progress (Run 33/250): 100%|██████████| 100/100 [00:00<00:00, 235.54it/s]\n",
      "Training Progress (Run 34/250): 100%|██████████| 100/100 [00:00<00:00, 322.45it/s]\n",
      "Training Progress (Run 35/250): 100%|██████████| 100/100 [00:00<00:00, 326.49it/s]\n",
      "Training Progress (Run 36/250): 100%|██████████| 100/100 [00:00<00:00, 401.42it/s]\n",
      "Training Progress (Run 37/250): 100%|██████████| 100/100 [00:00<00:00, 337.12it/s]\n",
      "Training Progress (Run 38/250): 100%|██████████| 100/100 [00:00<00:00, 367.17it/s]\n",
      "Training Progress (Run 39/250): 100%|██████████| 100/100 [00:00<00:00, 399.58it/s]\n",
      "Training Progress (Run 40/250): 100%|██████████| 100/100 [00:00<00:00, 334.89it/s]\n",
      "Training Progress (Run 41/250): 100%|██████████| 100/100 [00:00<00:00, 365.92it/s]\n",
      "Training Progress (Run 42/250): 100%|██████████| 100/100 [00:00<00:00, 476.65it/s]\n",
      "Training Progress (Run 43/250): 100%|██████████| 100/100 [00:00<00:00, 310.17it/s]\n",
      "Training Progress (Run 44/250): 100%|██████████| 100/100 [00:00<00:00, 354.77it/s]\n",
      "Training Progress (Run 45/250): 100%|██████████| 100/100 [00:00<00:00, 405.01it/s]\n",
      "Training Progress (Run 46/250): 100%|██████████| 100/100 [00:00<00:00, 418.90it/s]\n",
      "Training Progress (Run 47/250): 100%|██████████| 100/100 [00:00<00:00, 282.79it/s]\n",
      "Training Progress (Run 48/250): 100%|██████████| 100/100 [00:00<00:00, 358.84it/s]\n",
      "Training Progress (Run 49/250): 100%|██████████| 100/100 [00:00<00:00, 323.14it/s]\n",
      "Training Progress (Run 50/250): 100%|██████████| 100/100 [00:00<00:00, 363.63it/s]\n",
      "Training Progress (Run 51/250): 100%|██████████| 100/100 [00:00<00:00, 377.41it/s]\n",
      "Training Progress (Run 52/250): 100%|██████████| 100/100 [00:00<00:00, 405.80it/s]\n",
      "Training Progress (Run 53/250): 100%|██████████| 100/100 [00:00<00:00, 257.30it/s]\n",
      "Training Progress (Run 54/250): 100%|██████████| 100/100 [00:00<00:00, 265.34it/s]\n",
      "Training Progress (Run 55/250): 100%|██████████| 100/100 [00:00<00:00, 281.51it/s]\n",
      "Training Progress (Run 56/250): 100%|██████████| 100/100 [00:00<00:00, 435.91it/s]\n",
      "Training Progress (Run 57/250): 100%|██████████| 100/100 [00:00<00:00, 370.42it/s]\n",
      "Training Progress (Run 58/250): 100%|██████████| 100/100 [00:00<00:00, 326.75it/s]\n",
      "Training Progress (Run 59/250): 100%|██████████| 100/100 [00:00<00:00, 430.12it/s]\n",
      "Training Progress (Run 60/250): 100%|██████████| 100/100 [00:00<00:00, 393.59it/s]\n",
      "Training Progress (Run 61/250): 100%|██████████| 100/100 [00:00<00:00, 312.42it/s]\n",
      "Training Progress (Run 62/250): 100%|██████████| 100/100 [00:00<00:00, 327.40it/s]\n",
      "Training Progress (Run 63/250): 100%|██████████| 100/100 [00:00<00:00, 383.07it/s]\n",
      "Training Progress (Run 64/250): 100%|██████████| 100/100 [00:00<00:00, 301.20it/s]\n",
      "Training Progress (Run 65/250): 100%|██████████| 100/100 [00:00<00:00, 359.24it/s]\n",
      "Training Progress (Run 66/250): 100%|██████████| 100/100 [00:00<00:00, 537.72it/s]\n",
      "Training Progress (Run 67/250): 100%|██████████| 100/100 [00:00<00:00, 369.31it/s]\n",
      "Training Progress (Run 68/250): 100%|██████████| 100/100 [00:00<00:00, 235.93it/s]\n",
      "Training Progress (Run 69/250): 100%|██████████| 100/100 [00:00<00:00, 410.18it/s]\n",
      "Training Progress (Run 70/250): 100%|██████████| 100/100 [00:00<00:00, 335.23it/s]\n",
      "Training Progress (Run 71/250): 100%|██████████| 100/100 [00:00<00:00, 446.84it/s]\n",
      "Training Progress (Run 72/250): 100%|██████████| 100/100 [00:00<00:00, 316.10it/s]\n",
      "Training Progress (Run 73/250): 100%|██████████| 100/100 [00:00<00:00, 399.70it/s]\n",
      "Training Progress (Run 74/250): 100%|██████████| 100/100 [00:00<00:00, 352.19it/s]\n",
      "Training Progress (Run 75/250): 100%|██████████| 100/100 [00:00<00:00, 476.68it/s]\n",
      "Training Progress (Run 76/250): 100%|██████████| 100/100 [00:00<00:00, 257.79it/s]\n",
      "Training Progress (Run 77/250): 100%|██████████| 100/100 [00:00<00:00, 460.68it/s]\n",
      "Training Progress (Run 78/250): 100%|██████████| 100/100 [00:00<00:00, 435.83it/s]\n",
      "Training Progress (Run 79/250): 100%|██████████| 100/100 [00:00<00:00, 418.04it/s]\n",
      "Training Progress (Run 80/250): 100%|██████████| 100/100 [00:00<00:00, 474.44it/s]\n",
      "Training Progress (Run 81/250): 100%|██████████| 100/100 [00:00<00:00, 385.95it/s]\n",
      "Training Progress (Run 82/250): 100%|██████████| 100/100 [00:00<00:00, 374.08it/s]\n",
      "Training Progress (Run 83/250): 100%|██████████| 100/100 [00:00<00:00, 417.11it/s]\n",
      "Training Progress (Run 84/250): 100%|██████████| 100/100 [00:00<00:00, 514.63it/s]\n",
      "Training Progress (Run 85/250): 100%|██████████| 100/100 [00:00<00:00, 421.79it/s]\n",
      "Training Progress (Run 86/250): 100%|██████████| 100/100 [00:00<00:00, 392.88it/s]\n",
      "Training Progress (Run 87/250): 100%|██████████| 100/100 [00:00<00:00, 358.12it/s]\n",
      "Training Progress (Run 88/250): 100%|██████████| 100/100 [00:00<00:00, 427.00it/s]\n",
      "Training Progress (Run 89/250): 100%|██████████| 100/100 [00:00<00:00, 421.11it/s]\n",
      "Training Progress (Run 90/250): 100%|██████████| 100/100 [00:00<00:00, 431.54it/s]\n",
      "Training Progress (Run 91/250): 100%|██████████| 100/100 [00:00<00:00, 401.39it/s]\n",
      "Training Progress (Run 92/250): 100%|██████████| 100/100 [00:00<00:00, 372.38it/s]\n",
      "Training Progress (Run 93/250): 100%|██████████| 100/100 [00:00<00:00, 432.86it/s]\n",
      "Training Progress (Run 94/250): 100%|██████████| 100/100 [00:00<00:00, 380.92it/s]\n",
      "Training Progress (Run 95/250): 100%|██████████| 100/100 [00:00<00:00, 314.56it/s]\n",
      "Training Progress (Run 96/250): 100%|██████████| 100/100 [00:00<00:00, 408.07it/s]\n",
      "Training Progress (Run 97/250): 100%|██████████| 100/100 [00:00<00:00, 416.97it/s]\n",
      "Training Progress (Run 98/250): 100%|██████████| 100/100 [00:00<00:00, 250.62it/s]\n",
      "Training Progress (Run 99/250): 100%|██████████| 100/100 [00:00<00:00, 394.05it/s]\n",
      "Training Progress (Run 100/250): 100%|██████████| 100/100 [00:00<00:00, 390.11it/s]\n",
      "Training Progress (Run 101/250): 100%|██████████| 100/100 [00:00<00:00, 367.40it/s]\n",
      "Training Progress (Run 102/250): 100%|██████████| 100/100 [00:00<00:00, 389.67it/s]\n",
      "Training Progress (Run 103/250): 100%|██████████| 100/100 [00:00<00:00, 331.89it/s]\n",
      "Training Progress (Run 104/250): 100%|██████████| 100/100 [00:00<00:00, 437.77it/s]\n",
      "Training Progress (Run 105/250): 100%|██████████| 100/100 [00:00<00:00, 363.76it/s]\n",
      "Training Progress (Run 106/250): 100%|██████████| 100/100 [00:00<00:00, 439.17it/s]\n",
      "Training Progress (Run 107/250): 100%|██████████| 100/100 [00:00<00:00, 231.34it/s]\n",
      "Training Progress (Run 108/250): 100%|██████████| 100/100 [00:00<00:00, 252.44it/s]\n",
      "Training Progress (Run 109/250): 100%|██████████| 100/100 [00:00<00:00, 347.01it/s]\n",
      "Training Progress (Run 110/250): 100%|██████████| 100/100 [00:00<00:00, 267.77it/s]\n",
      "Training Progress (Run 111/250): 100%|██████████| 100/100 [00:00<00:00, 401.12it/s]\n",
      "Training Progress (Run 112/250): 100%|██████████| 100/100 [00:00<00:00, 290.83it/s]\n",
      "Training Progress (Run 113/250): 100%|██████████| 100/100 [00:00<00:00, 390.86it/s]\n",
      "Training Progress (Run 114/250): 100%|██████████| 100/100 [00:00<00:00, 384.58it/s]\n",
      "Training Progress (Run 115/250): 100%|██████████| 100/100 [00:00<00:00, 406.41it/s]\n",
      "Training Progress (Run 116/250): 100%|██████████| 100/100 [00:00<00:00, 407.98it/s]\n",
      "Training Progress (Run 117/250): 100%|██████████| 100/100 [00:00<00:00, 341.91it/s]\n",
      "Training Progress (Run 118/250): 100%|██████████| 100/100 [00:00<00:00, 303.27it/s]\n",
      "Training Progress (Run 119/250): 100%|██████████| 100/100 [00:00<00:00, 180.55it/s]\n",
      "Training Progress (Run 120/250): 100%|██████████| 100/100 [00:00<00:00, 327.57it/s]\n",
      "Training Progress (Run 121/250): 100%|██████████| 100/100 [00:00<00:00, 457.67it/s]\n",
      "Training Progress (Run 122/250): 100%|██████████| 100/100 [00:00<00:00, 409.32it/s]\n",
      "Training Progress (Run 123/250): 100%|██████████| 100/100 [00:00<00:00, 410.35it/s]\n",
      "Training Progress (Run 124/250): 100%|██████████| 100/100 [00:00<00:00, 239.47it/s]\n",
      "Training Progress (Run 125/250): 100%|██████████| 100/100 [00:00<00:00, 261.01it/s]\n",
      "Training Progress (Run 126/250): 100%|██████████| 100/100 [00:00<00:00, 283.32it/s]\n",
      "Training Progress (Run 127/250): 100%|██████████| 100/100 [00:00<00:00, 379.17it/s]\n",
      "Training Progress (Run 128/250): 100%|██████████| 100/100 [00:00<00:00, 412.73it/s]\n",
      "Training Progress (Run 129/250): 100%|██████████| 100/100 [00:00<00:00, 272.78it/s]\n",
      "Training Progress (Run 130/250): 100%|██████████| 100/100 [00:00<00:00, 229.64it/s]\n",
      "Training Progress (Run 131/250): 100%|██████████| 100/100 [00:00<00:00, 355.74it/s]\n",
      "Training Progress (Run 132/250): 100%|██████████| 100/100 [00:00<00:00, 371.50it/s]\n",
      "Training Progress (Run 133/250): 100%|██████████| 100/100 [00:00<00:00, 395.28it/s]\n",
      "Training Progress (Run 134/250): 100%|██████████| 100/100 [00:00<00:00, 208.34it/s]\n",
      "Training Progress (Run 135/250): 100%|██████████| 100/100 [00:00<00:00, 332.14it/s]\n",
      "Training Progress (Run 136/250): 100%|██████████| 100/100 [00:00<00:00, 453.07it/s]\n",
      "Training Progress (Run 137/250): 100%|██████████| 100/100 [00:00<00:00, 358.47it/s]\n",
      "Training Progress (Run 138/250): 100%|██████████| 100/100 [00:00<00:00, 436.23it/s]\n",
      "Training Progress (Run 139/250): 100%|██████████| 100/100 [00:00<00:00, 351.99it/s]\n",
      "Training Progress (Run 140/250): 100%|██████████| 100/100 [00:00<00:00, 281.45it/s]\n",
      "Training Progress (Run 141/250): 100%|██████████| 100/100 [00:00<00:00, 358.55it/s]\n",
      "Training Progress (Run 142/250): 100%|██████████| 100/100 [00:00<00:00, 302.17it/s]\n",
      "Training Progress (Run 143/250): 100%|██████████| 100/100 [00:00<00:00, 364.11it/s]\n",
      "Training Progress (Run 144/250): 100%|██████████| 100/100 [00:00<00:00, 545.22it/s]\n",
      "Training Progress (Run 145/250): 100%|██████████| 100/100 [00:00<00:00, 403.04it/s]\n",
      "Training Progress (Run 146/250): 100%|██████████| 100/100 [00:00<00:00, 436.25it/s]\n",
      "Training Progress (Run 147/250): 100%|██████████| 100/100 [00:00<00:00, 444.71it/s]\n",
      "Training Progress (Run 148/250): 100%|██████████| 100/100 [00:00<00:00, 229.15it/s]\n",
      "Training Progress (Run 149/250): 100%|██████████| 100/100 [00:00<00:00, 390.05it/s]\n",
      "Training Progress (Run 150/250): 100%|██████████| 100/100 [00:00<00:00, 279.67it/s]\n",
      "Training Progress (Run 151/250): 100%|██████████| 100/100 [00:00<00:00, 250.88it/s]\n",
      "Training Progress (Run 152/250): 100%|██████████| 100/100 [00:00<00:00, 473.72it/s]\n",
      "Training Progress (Run 153/250): 100%|██████████| 100/100 [00:00<00:00, 354.48it/s]\n",
      "Training Progress (Run 154/250): 100%|██████████| 100/100 [00:00<00:00, 442.31it/s]\n",
      "Training Progress (Run 155/250): 100%|██████████| 100/100 [00:00<00:00, 314.48it/s]\n",
      "Training Progress (Run 156/250): 100%|██████████| 100/100 [00:00<00:00, 388.72it/s]\n",
      "Training Progress (Run 157/250): 100%|██████████| 100/100 [00:00<00:00, 393.25it/s]\n",
      "Training Progress (Run 158/250): 100%|██████████| 100/100 [00:00<00:00, 429.97it/s]\n",
      "Training Progress (Run 159/250): 100%|██████████| 100/100 [00:00<00:00, 419.36it/s]\n",
      "Training Progress (Run 160/250): 100%|██████████| 100/100 [00:00<00:00, 350.60it/s]\n",
      "Training Progress (Run 161/250): 100%|██████████| 100/100 [00:00<00:00, 426.59it/s]\n",
      "Training Progress (Run 162/250): 100%|██████████| 100/100 [00:00<00:00, 425.58it/s]\n",
      "Training Progress (Run 163/250): 100%|██████████| 100/100 [00:00<00:00, 415.79it/s]\n",
      "Training Progress (Run 164/250): 100%|██████████| 100/100 [00:00<00:00, 425.29it/s]\n",
      "Training Progress (Run 165/250): 100%|██████████| 100/100 [00:00<00:00, 492.30it/s]\n",
      "Training Progress (Run 166/250): 100%|██████████| 100/100 [00:00<00:00, 269.76it/s]\n",
      "Training Progress (Run 167/250): 100%|██████████| 100/100 [00:00<00:00, 386.60it/s]\n",
      "Training Progress (Run 168/250): 100%|██████████| 100/100 [00:00<00:00, 365.99it/s]\n",
      "Training Progress (Run 169/250): 100%|██████████| 100/100 [00:00<00:00, 354.81it/s]\n",
      "Training Progress (Run 170/250): 100%|██████████| 100/100 [00:00<00:00, 346.20it/s]\n",
      "Training Progress (Run 171/250): 100%|██████████| 100/100 [00:00<00:00, 306.35it/s]\n",
      "Training Progress (Run 172/250): 100%|██████████| 100/100 [00:00<00:00, 314.80it/s]\n",
      "Training Progress (Run 173/250): 100%|██████████| 100/100 [00:00<00:00, 392.39it/s]\n",
      "Training Progress (Run 174/250): 100%|██████████| 100/100 [00:00<00:00, 376.70it/s]\n",
      "Training Progress (Run 175/250): 100%|██████████| 100/100 [00:00<00:00, 340.55it/s]\n",
      "Training Progress (Run 176/250): 100%|██████████| 100/100 [00:00<00:00, 276.67it/s]\n",
      "Training Progress (Run 177/250): 100%|██████████| 100/100 [00:00<00:00, 199.70it/s]\n",
      "Training Progress (Run 178/250): 100%|██████████| 100/100 [00:00<00:00, 333.66it/s]\n",
      "Training Progress (Run 179/250): 100%|██████████| 100/100 [00:00<00:00, 342.21it/s]\n",
      "Training Progress (Run 180/250): 100%|██████████| 100/100 [00:00<00:00, 401.70it/s]\n",
      "Training Progress (Run 181/250): 100%|██████████| 100/100 [00:00<00:00, 337.19it/s]\n",
      "Training Progress (Run 182/250): 100%|██████████| 100/100 [00:00<00:00, 344.28it/s]\n",
      "Training Progress (Run 183/250): 100%|██████████| 100/100 [00:00<00:00, 286.47it/s]\n",
      "Training Progress (Run 184/250): 100%|██████████| 100/100 [00:00<00:00, 435.60it/s]\n",
      "Training Progress (Run 185/250): 100%|██████████| 100/100 [00:00<00:00, 347.11it/s]\n",
      "Training Progress (Run 186/250): 100%|██████████| 100/100 [00:00<00:00, 410.15it/s]\n",
      "Training Progress (Run 187/250): 100%|██████████| 100/100 [00:00<00:00, 406.69it/s]\n",
      "Training Progress (Run 188/250): 100%|██████████| 100/100 [00:00<00:00, 379.79it/s]\n",
      "Training Progress (Run 189/250): 100%|██████████| 100/100 [00:00<00:00, 450.38it/s]\n",
      "Training Progress (Run 190/250): 100%|██████████| 100/100 [00:00<00:00, 365.47it/s]\n",
      "Training Progress (Run 191/250): 100%|██████████| 100/100 [00:00<00:00, 270.76it/s]\n",
      "Training Progress (Run 192/250): 100%|██████████| 100/100 [00:00<00:00, 424.98it/s]\n",
      "Training Progress (Run 193/250): 100%|██████████| 100/100 [00:00<00:00, 502.39it/s]\n",
      "Training Progress (Run 194/250): 100%|██████████| 100/100 [00:00<00:00, 311.15it/s]\n",
      "Training Progress (Run 195/250): 100%|██████████| 100/100 [00:00<00:00, 398.43it/s]\n",
      "Training Progress (Run 196/250): 100%|██████████| 100/100 [00:00<00:00, 345.37it/s]\n",
      "Training Progress (Run 197/250): 100%|██████████| 100/100 [00:00<00:00, 279.81it/s]\n",
      "Training Progress (Run 198/250): 100%|██████████| 100/100 [00:00<00:00, 309.52it/s]\n",
      "Training Progress (Run 199/250): 100%|██████████| 100/100 [00:00<00:00, 308.49it/s]\n",
      "Training Progress (Run 200/250): 100%|██████████| 100/100 [00:00<00:00, 385.12it/s]\n",
      "Training Progress (Run 201/250): 100%|██████████| 100/100 [00:00<00:00, 410.33it/s]\n",
      "Training Progress (Run 202/250): 100%|██████████| 100/100 [00:00<00:00, 378.17it/s]\n",
      "Training Progress (Run 203/250): 100%|██████████| 100/100 [00:00<00:00, 303.39it/s]\n",
      "Training Progress (Run 204/250): 100%|██████████| 100/100 [00:00<00:00, 312.98it/s]\n",
      "Training Progress (Run 205/250): 100%|██████████| 100/100 [00:00<00:00, 408.91it/s]\n",
      "Training Progress (Run 206/250): 100%|██████████| 100/100 [00:00<00:00, 406.64it/s]\n",
      "Training Progress (Run 207/250): 100%|██████████| 100/100 [00:00<00:00, 405.72it/s]\n",
      "Training Progress (Run 208/250): 100%|██████████| 100/100 [00:00<00:00, 511.14it/s]\n",
      "Training Progress (Run 209/250): 100%|██████████| 100/100 [00:00<00:00, 341.52it/s]\n",
      "Training Progress (Run 210/250): 100%|██████████| 100/100 [00:00<00:00, 270.26it/s]\n",
      "Training Progress (Run 211/250): 100%|██████████| 100/100 [00:00<00:00, 422.56it/s]\n",
      "Training Progress (Run 212/250): 100%|██████████| 100/100 [00:00<00:00, 452.15it/s]\n",
      "Training Progress (Run 213/250): 100%|██████████| 100/100 [00:00<00:00, 376.50it/s]\n",
      "Training Progress (Run 214/250): 100%|██████████| 100/100 [00:00<00:00, 427.20it/s]\n",
      "Training Progress (Run 215/250): 100%|██████████| 100/100 [00:00<00:00, 238.52it/s]\n",
      "Training Progress (Run 216/250): 100%|██████████| 100/100 [00:00<00:00, 418.17it/s]\n",
      "Training Progress (Run 217/250): 100%|██████████| 100/100 [00:00<00:00, 359.57it/s]\n",
      "Training Progress (Run 218/250): 100%|██████████| 100/100 [00:00<00:00, 261.40it/s]\n",
      "Training Progress (Run 219/250): 100%|██████████| 100/100 [00:00<00:00, 405.51it/s]\n",
      "Training Progress (Run 220/250): 100%|██████████| 100/100 [00:00<00:00, 401.59it/s]\n",
      "Training Progress (Run 221/250): 100%|██████████| 100/100 [00:00<00:00, 290.98it/s]\n",
      "Training Progress (Run 222/250): 100%|██████████| 100/100 [00:00<00:00, 359.79it/s]\n",
      "Training Progress (Run 223/250): 100%|██████████| 100/100 [00:00<00:00, 404.75it/s]\n",
      "Training Progress (Run 224/250): 100%|██████████| 100/100 [00:00<00:00, 320.40it/s]\n",
      "Training Progress (Run 225/250): 100%|██████████| 100/100 [00:00<00:00, 332.74it/s]\n",
      "Training Progress (Run 226/250): 100%|██████████| 100/100 [00:00<00:00, 250.79it/s]\n",
      "Training Progress (Run 227/250): 100%|██████████| 100/100 [00:00<00:00, 391.20it/s]\n",
      "Training Progress (Run 228/250): 100%|██████████| 100/100 [00:00<00:00, 384.65it/s]\n",
      "Training Progress (Run 229/250): 100%|██████████| 100/100 [00:00<00:00, 357.71it/s]\n",
      "Training Progress (Run 230/250): 100%|██████████| 100/100 [00:00<00:00, 309.64it/s]\n",
      "Training Progress (Run 231/250): 100%|██████████| 100/100 [00:00<00:00, 236.74it/s]\n",
      "Training Progress (Run 232/250): 100%|██████████| 100/100 [00:00<00:00, 304.02it/s]\n",
      "Training Progress (Run 233/250): 100%|██████████| 100/100 [00:00<00:00, 388.97it/s]\n",
      "Training Progress (Run 234/250): 100%|██████████| 100/100 [00:00<00:00, 372.29it/s]\n",
      "Training Progress (Run 235/250): 100%|██████████| 100/100 [00:00<00:00, 430.13it/s]\n",
      "Training Progress (Run 236/250): 100%|██████████| 100/100 [00:00<00:00, 424.24it/s]\n",
      "Training Progress (Run 237/250): 100%|██████████| 100/100 [00:00<00:00, 482.46it/s]\n",
      "Training Progress (Run 238/250): 100%|██████████| 100/100 [00:00<00:00, 439.75it/s]\n",
      "Training Progress (Run 239/250): 100%|██████████| 100/100 [00:00<00:00, 421.00it/s]\n",
      "Training Progress (Run 240/250): 100%|██████████| 100/100 [00:00<00:00, 399.42it/s]\n",
      "Training Progress (Run 241/250): 100%|██████████| 100/100 [00:00<00:00, 500.04it/s]\n",
      "Training Progress (Run 242/250): 100%|██████████| 100/100 [00:00<00:00, 416.68it/s]\n",
      "Training Progress (Run 243/250): 100%|██████████| 100/100 [00:00<00:00, 351.26it/s]\n",
      "Training Progress (Run 244/250): 100%|██████████| 100/100 [00:00<00:00, 304.62it/s]\n",
      "Training Progress (Run 245/250): 100%|██████████| 100/100 [00:00<00:00, 312.80it/s]\n",
      "Training Progress (Run 246/250): 100%|██████████| 100/100 [00:00<00:00, 420.25it/s]\n",
      "Training Progress (Run 247/250): 100%|██████████| 100/100 [00:00<00:00, 286.40it/s]\n",
      "Training Progress (Run 248/250): 100%|██████████| 100/100 [00:00<00:00, 303.59it/s]\n",
      "Training Progress (Run 249/250): 100%|██████████| 100/100 [00:00<00:00, 356.97it/s]\n",
      "Training Progress (Run 250/250): 100%|██████████| 100/100 [00:00<00:00, 248.54it/s]\n"
     ]
    },
    {
     "name": "stdout",
     "output_type": "stream",
     "text": [
      "\n",
      "Averaged over 250 runs:\n",
      "The average reward per run is: -2109.0192000000006\n",
      "The average steps per run is: 524.45636\n"
     ]
    },
    {
     "data": {
      "image/png": "[encoded data removed]",
      "text/plain": [
       "<Figure size 1000x500 with 2 Axes>"
      ]
     },
     "metadata": {},
     "output_type": "display_data"
    },
    {
     "name": "stdout",
     "output_type": "stream",
     "text": [
      "Learned Path:\n",
      "(1, 1)-> (1, 1)-> (1, 2)-> (1, 3)-> (1, 4)-> (1, 5)-> (1, 6)-> (1, 7)-> (2, 7)-> (3, 7)-> (4, 7)-> (5, 7)-> (5, 8)-> (5, 9)-> (6, 9)-> (7, 9)-> (7, 10)-> (7, 11)-> (7, 12)-> (7, 13)-> (8, 13)-> (9, 13)-> (10, 13)-> (11, 13)-> (12, 13)-> (13, 13)-> (14, 13)-> (15, 13)-> (16, 13)-> (17, 13)-> (17, 14)-> (17, 15)-> (17, 16)-> (17, 17)-> (18, 17)-> (19, 17)-> (20, 17)-> (21, 17)-> (22, 17)-> (23, 17)-> (23, 18)-> (23, 19)-> (22, 19)-> (21, 19)-> (21, 20)-> (21, 21)-> (22, 21)-> (23, 21)-> (23, 22)-> Goal!\n",
      "Number of steps: 48\n",
      "Total reward: 53\n"
     ]
    },
    {
     "data": {
      "text/plain": [
       "<Figure size 640x480 with 0 Axes>"
      ]
     },
     "metadata": {},
     "output_type": "display_data"
    },
    {
     "data": {
      "image/png": "[encoded data removed]",
      "text/plain": [
       "<Figure size 500x500 with 1 Axes>"
      ]
     },
     "metadata": {},
     "output_type": "display_data"
    }
   ],
   "source": [
    "num_episodes = 100\n",
    "num_runs = 250\n",
    "last_agent, avg_rewards, avg_steps = train_agent(agent_factory, maze, num_episodes, num_runs)\n",
    "\n",
    "# Plot data from training\n",
    "plot_training(avg_rewards, avg_steps, num_episodes)\n",
    "\n",
    "# Testing the agent after training\n",
    "test_agent(last_agent, maze)"
   ]
  },
  {
   "cell_type": "code",
   "execution_count": 36,
   "metadata": {},
   "outputs": [],
   "source": [
    "# Save training data for comparison\n",
    "saved_array = [avg_rewards, avg_steps]\n",
    "\n",
    "filename = 'model_1_training_data'\n",
    "np.save('training_data/' + filename, saved_array)"
   ]
  },
  {
   "cell_type": "markdown",
   "metadata": {},
   "source": []
  }
 ],
 "metadata": {
  "colab": {
   "provenance": []
  },
  "kernelspec": {
   "display_name": "first_environment",
   "language": "python",
   "name": "python3"
  },
  "language_info": {
   "codemirror_mode": {
    "name": "ipython",
    "version": 3
   },
   "file_extension": ".py",
   "mimetype": "text/x-python",
   "name": "python",
   "nbconvert_exporter": "python",
   "pygments_lexer": "ipython3",
   "version": "3.12.1"
  }
 },
 "nbformat": 4,
 "nbformat_minor": 0
}
